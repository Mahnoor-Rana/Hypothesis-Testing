{
 "cells": [
  {
   "cell_type": "markdown",
   "id": "3adb04fe",
   "metadata": {},
   "source": [
    "## TESTING\n",
    "- **How does hypothesis testing work and what problems can it solve?**"
   ]
  },
  {
   "cell_type": "code",
   "execution_count": 1,
   "id": "a9accc11",
   "metadata": {},
   "outputs": [],
   "source": [
    "import pandas as pd \n",
    "import numpy as np \n",
    "import matplotlib.pyplot as plt\n",
    "import seaborn as sns"
   ]
  },
  {
   "cell_type": "markdown",
   "id": "82bfdc68",
   "metadata": {},
   "source": [
    "## Calculating the sample mean"
   ]
  },
  {
   "cell_type": "markdown",
   "id": "580a379e",
   "metadata": {},
   "source": [
    "The late_shipments dataset contains supply chain data on the delivery of medical supplies. Each row represents one delivery of a part. The late columns denotes whether or not the part was delivered late. A value of \"Yes\" means that the part was delivered late, and a value of \"No\" means the part was delivered on time.\n",
    "\n"
   ]
  },
  {
   "cell_type": "code",
   "execution_count": 2,
   "id": "d5211f0d",
   "metadata": {},
   "outputs": [],
   "source": [
    "late_shipments = pd.read_feather(\"late_shipments.feather\")"
   ]
  },
  {
   "cell_type": "code",
   "execution_count": null,
   "id": "ea0ea3d7",
   "metadata": {},
   "outputs": [],
   "source": []
  },
  {
   "cell_type": "code",
   "execution_count": null,
   "id": "a3652265",
   "metadata": {},
   "outputs": [],
   "source": []
  },
  {
   "cell_type": "code",
   "execution_count": null,
   "id": "e0848f1c",
   "metadata": {},
   "outputs": [],
   "source": []
  }
 ],
 "metadata": {
  "kernelspec": {
   "display_name": "Python 3 (ipykernel)",
   "language": "python",
   "name": "python3"
  },
  "language_info": {
   "codemirror_mode": {
    "name": "ipython",
    "version": 3
   },
   "file_extension": ".py",
   "mimetype": "text/x-python",
   "name": "python",
   "nbconvert_exporter": "python",
   "pygments_lexer": "ipython3",
   "version": "3.9.12"
  }
 },
 "nbformat": 4,
 "nbformat_minor": 5
}

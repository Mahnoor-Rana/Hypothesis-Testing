{
 "cells": [
  {
   "cell_type": "markdown",
   "id": "fea48e9f",
   "metadata": {},
   "source": [
    "## Test for single proportions\n",
    "You calculated a p-value for a test hypothesizing that the proportion of late shipments was greater than 6%. In that chapter, you used a bootstrap distribution to estimate the standard error of the statistic. An alternative is to use an equation for the standard error based on the sample proportion, hypothesized proportion, and sample size.\n",
    "\n"
   ]
  },
  {
   "cell_type": "code",
   "execution_count": 1,
   "id": "aacd6c89",
   "metadata": {},
   "outputs": [],
   "source": [
    "import pandas as pd \n",
    "import numpy as np \n",
    "import matplotlib.pyplot as plt\n",
    "import seaborn as sns\n",
    "from scipy.stats import norm\n",
    "from statsmodels.stats.proportion import proportions_ztest\n",
    "import pingouin as pg"
   ]
  },
  {
   "cell_type": "code",
   "execution_count": 2,
   "id": "838fac44",
   "metadata": {},
   "outputs": [
    {
     "name": "stdout",
     "output_type": "stream",
     "text": [
      "Requirement already satisfied: pingouin in c:\\users\\hp\\anaconda3\\lib\\site-packages (0.5.2)\n",
      "Requirement already satisfied: matplotlib>=3.0.2 in c:\\users\\hp\\anaconda3\\lib\\site-packages (from pingouin) (3.5.1)\n",
      "Requirement already satisfied: tabulate in c:\\users\\hp\\anaconda3\\lib\\site-packages (from pingouin) (0.8.9)\n",
      "Requirement already satisfied: statsmodels>=0.13 in c:\\users\\hp\\anaconda3\\lib\\site-packages (from pingouin) (0.13.2)\n",
      "Requirement already satisfied: pandas-flavor>=0.2.0 in c:\\users\\hp\\anaconda3\\lib\\site-packages (from pingouin) (0.3.0)\n",
      "Requirement already satisfied: numpy>=1.19 in c:\\users\\hp\\anaconda3\\lib\\site-packages (from pingouin) (1.21.5)\n",
      "Requirement already satisfied: scipy>=1.7 in c:\\users\\hp\\anaconda3\\lib\\site-packages (from pingouin) (1.7.3)\n",
      "Requirement already satisfied: outdated in c:\\users\\hp\\anaconda3\\lib\\site-packages (from pingouin) (0.2.1)\n",
      "Requirement already satisfied: seaborn>=0.11 in c:\\users\\hp\\anaconda3\\lib\\site-packages (from pingouin) (0.11.2)\n",
      "Requirement already satisfied: scikit-learn<1.1.0 in c:\\users\\hp\\anaconda3\\lib\\site-packages (from pingouin) (1.0.2)\n",
      "Requirement already satisfied: pandas>=1.0 in c:\\users\\hp\\anaconda3\\lib\\site-packages (from pingouin) (1.4.2)\n",
      "Requirement already satisfied: cycler>=0.10 in c:\\users\\hp\\anaconda3\\lib\\site-packages (from matplotlib>=3.0.2->pingouin) (0.11.0)\n",
      "Requirement already satisfied: pillow>=6.2.0 in c:\\users\\hp\\anaconda3\\lib\\site-packages (from matplotlib>=3.0.2->pingouin) (9.0.1)\n",
      "Requirement already satisfied: packaging>=20.0 in c:\\users\\hp\\anaconda3\\lib\\site-packages (from matplotlib>=3.0.2->pingouin) (21.3)\n",
      "Requirement already satisfied: python-dateutil>=2.7 in c:\\users\\hp\\anaconda3\\lib\\site-packages (from matplotlib>=3.0.2->pingouin) (2.8.2)\n",
      "Requirement already satisfied: kiwisolver>=1.0.1 in c:\\users\\hp\\anaconda3\\lib\\site-packages (from matplotlib>=3.0.2->pingouin) (1.3.2)\n",
      "Requirement already satisfied: pyparsing>=2.2.1 in c:\\users\\hp\\anaconda3\\lib\\site-packages (from matplotlib>=3.0.2->pingouin) (3.0.4)\n",
      "Requirement already satisfied: fonttools>=4.22.0 in c:\\users\\hp\\anaconda3\\lib\\site-packages (from matplotlib>=3.0.2->pingouin) (4.25.0)\n",
      "Requirement already satisfied: pytz>=2020.1 in c:\\users\\hp\\anaconda3\\lib\\site-packages (from pandas>=1.0->pingouin) (2021.3)\n",
      "Requirement already satisfied: lazy-loader==0.1rc2 in c:\\users\\hp\\anaconda3\\lib\\site-packages (from pandas-flavor>=0.2.0->pingouin) (0.1rc2)\n",
      "Requirement already satisfied: xarray in c:\\users\\hp\\anaconda3\\lib\\site-packages (from pandas-flavor>=0.2.0->pingouin) (0.20.1)\n",
      "Requirement already satisfied: six>=1.5 in c:\\users\\hp\\anaconda3\\lib\\site-packages (from python-dateutil>=2.7->matplotlib>=3.0.2->pingouin) (1.16.0)\n",
      "Requirement already satisfied: joblib>=0.11 in c:\\users\\hp\\anaconda3\\lib\\site-packages (from scikit-learn<1.1.0->pingouin) (1.1.0)\n",
      "Requirement already satisfied: threadpoolctl>=2.0.0 in c:\\users\\hp\\anaconda3\\lib\\site-packages (from scikit-learn<1.1.0->pingouin) (2.2.0)\n",
      "Requirement already satisfied: patsy>=0.5.2 in c:\\users\\hp\\anaconda3\\lib\\site-packages (from statsmodels>=0.13->pingouin) (0.5.2)\n",
      "Requirement already satisfied: littleutils in c:\\users\\hp\\anaconda3\\lib\\site-packages (from outdated->pingouin) (0.2.2)\n",
      "Requirement already satisfied: requests in c:\\users\\hp\\anaconda3\\lib\\site-packages (from outdated->pingouin) (2.27.1)\n",
      "Requirement already satisfied: idna<4,>=2.5 in c:\\users\\hp\\anaconda3\\lib\\site-packages (from requests->outdated->pingouin) (3.3)\n",
      "Requirement already satisfied: urllib3<1.27,>=1.21.1 in c:\\users\\hp\\anaconda3\\lib\\site-packages (from requests->outdated->pingouin) (1.26.9)\n",
      "Requirement already satisfied: certifi>=2017.4.17 in c:\\users\\hp\\anaconda3\\lib\\site-packages (from requests->outdated->pingouin) (2022.6.15)\n",
      "Requirement already satisfied: charset-normalizer~=2.0.0 in c:\\users\\hp\\anaconda3\\lib\\site-packages (from requests->outdated->pingouin) (2.0.4)\n",
      "Note: you may need to restart the kernel to use updated packages.\n"
     ]
    }
   ],
   "source": [
    "pip install pingouin"
   ]
  },
  {
   "cell_type": "code",
   "execution_count": 3,
   "id": "1019d5b3",
   "metadata": {},
   "outputs": [],
   "source": [
    "late_shipments = pd.read_feather(\"late_shipments.feather\")"
   ]
  },
  {
   "cell_type": "code",
   "execution_count": 4,
   "id": "62ae93bb",
   "metadata": {},
   "outputs": [
    {
     "name": "stdout",
     "output_type": "stream",
     "text": [
      "0.061 1000\n"
     ]
    }
   ],
   "source": [
    "# Hypothesize that the proportion of late shipments is 6%\n",
    "p_0 = 0.06\n",
    "\n",
    "# Calculate the sample proportion of late shipments\n",
    "p_hat = (late_shipments['late'] == \"Yes\").mean()\n",
    "\n",
    "# Calculate the sample size\n",
    "n = len(late_shipments)\n",
    "\n",
    "# Print p_hat and n\n",
    "print(p_hat, n)"
   ]
  },
  {
   "cell_type": "code",
   "execution_count": 5,
   "id": "261f0fb2",
   "metadata": {},
   "outputs": [
    {
     "name": "stdout",
     "output_type": "stream",
     "text": [
      "0.13315591032282698\n"
     ]
    }
   ],
   "source": [
    "# Calculate the numerator and denominator of the test statistic\n",
    "numerator = p_hat - p_0\n",
    "denominator = np.sqrt(p_0 * (1 - p_0) / n)\n",
    "\n",
    "# Calculate the test statistic\n",
    "z_score = numerator / denominator\n",
    "\n",
    "# Print the result\n",
    "print(z_score)"
   ]
  },
  {
   "cell_type": "code",
   "execution_count": 6,
   "id": "23b3b8e2",
   "metadata": {},
   "outputs": [],
   "source": [
    "# Calculate the p-value from the z-score\n",
    "p_value = 1 - norm.cdf(z_score)"
   ]
  },
  {
   "cell_type": "markdown",
   "id": "21fe1503",
   "metadata": {},
   "source": [
    "## proportions_ztest() for two samples\n",
    "That took a lot of effort to calculate the p-value, so while it is useful to see how the calculations work, it isn't practical to do in real-world analyses. For daily usage, it's better to use the statsmodels package."
   ]
  },
  {
   "cell_type": "code",
   "execution_count": 7,
   "id": "6b277cd5",
   "metadata": {},
   "outputs": [
    {
     "name": "stdout",
     "output_type": "stream",
     "text": [
      "freight_cost_groups  late\n",
      "expensive            No      489\n",
      "                     Yes      42\n",
      "reasonable           No      439\n",
      "                     Yes      16\n",
      "Name: late, dtype: int64\n"
     ]
    }
   ],
   "source": [
    "# Count the late column values for each freight_cost_group\n",
    "late_by_freight_cost_group = late_shipments.groupby('freight_cost_groups')['late'].value_counts()\n",
    "\n",
    "# Print the counts\n",
    "print(late_by_freight_cost_group)"
   ]
  },
  {
   "cell_type": "code",
   "execution_count": 8,
   "id": "47fab219",
   "metadata": {},
   "outputs": [
    {
     "name": "stdout",
     "output_type": "stream",
     "text": [
      "3.1190401865206128 0.0009072060637051224\n"
     ]
    }
   ],
   "source": [
    "# Create an array of the \"Yes\" counts for each freight_cost_group\n",
    "success_counts = np.array([45, 16])\n",
    "\n",
    "# Create an array of the total number of rows in each freight_cost_group\n",
    "n = np.array([45 + 500, 16 + 439])\n",
    "\n",
    "# Run a z-test on the two proportions\n",
    "stat, p_value = proportions_ztest(count=success_counts, nobs=n,\n",
    "                                  alternative=\"larger\")\n",
    "\n",
    "# Print the results\n",
    "print(stat, p_value)"
   ]
  },
  {
   "cell_type": "code",
   "execution_count": 9,
   "id": "a1150980",
   "metadata": {},
   "outputs": [
    {
     "data": {
      "text/plain": [
       "Index(['id', 'country', 'managed_by', 'fulfill_via', 'vendor_inco_term',\n",
       "       'shipment_mode', 'late_delivery', 'late', 'product_group',\n",
       "       'sub_classification', 'vendor', 'item_description',\n",
       "       'molecule_test_type', 'brand', 'dosage', 'dosage_form',\n",
       "       'unit_of_measure_per_pack', 'line_item_quantity', 'line_item_value',\n",
       "       'pack_price', 'unit_price', 'manufacturing_site',\n",
       "       'first_line_designation', 'weight_kilograms', 'freight_cost_usd',\n",
       "       'freight_cost_groups', 'line_item_insurance_usd'],\n",
       "      dtype='object')"
      ]
     },
     "execution_count": 9,
     "metadata": {},
     "output_type": "execute_result"
    }
   ],
   "source": [
    "late_shipments.columns"
   ]
  },
  {
   "cell_type": "code",
   "execution_count": 10,
   "id": "16f93a9d",
   "metadata": {},
   "outputs": [
    {
     "name": "stdout",
     "output_type": "stream",
     "text": [
      "vendor_inco_term  freight_cost_groups\n",
      "CIP               reasonable             0.680000\n",
      "                  expensive              0.320000\n",
      "DDP               expensive              0.550000\n",
      "                  reasonable             0.450000\n",
      "DDU               reasonable             1.000000\n",
      "EXW               expensive              0.583448\n",
      "                  reasonable             0.416552\n",
      "FCA               reasonable             0.663636\n",
      "                  expensive              0.336364\n",
      "Name: freight_cost_groups, dtype: float64\n"
     ]
    }
   ],
   "source": [
    "# Proportion of freight_cost_group grouped by vendor_inco_term\n",
    "props = late_shipments.groupby('vendor_inco_term')['freight_cost_groups'].value_counts(normalize=True)\n",
    "\n",
    "# Print props\n",
    "print(props)"
   ]
  },
  {
   "cell_type": "code",
   "execution_count": 11,
   "id": "0c3d5cca",
   "metadata": {},
   "outputs": [
    {
     "name": "stdout",
     "output_type": "stream",
     "text": [
      "freight_cost_groups  expensive  reasonable\n",
      "vendor_inco_term                          \n",
      "CIP                   0.320000    0.680000\n",
      "DDP                   0.550000    0.450000\n",
      "DDU                        NaN    1.000000\n",
      "EXW                   0.583448    0.416552\n",
      "FCA                   0.336364    0.663636\n"
     ]
    }
   ],
   "source": [
    "# Convert props to wide format\n",
    "wide_props = props.unstack()\n",
    "\n",
    "# Print wide_props\n",
    "print(wide_props)"
   ]
  },
  {
   "cell_type": "code",
   "execution_count": 12,
   "id": "9afbf7ab",
   "metadata": {},
   "outputs": [
    {
     "data": {
      "image/png": "[encoded data removed]",
      "text/plain": [
       "<Figure size 432x288 with 1 Axes>"
      ]
     },
     "metadata": {
      "needs_background": "light"
     },
     "output_type": "display_data"
    }
   ],
   "source": [
    "# Proportional stacked bar plot of freight_cost_group vs. vendor_inco_term\n",
    "wide_props.plot(kind=\"bar\", stacked=True)\n",
    "plt.show()"
   ]
  },
  {
   "cell_type": "code",
   "execution_count": 14,
   "id": "cd1edd90",
   "metadata": {},
   "outputs": [
    {
     "name": "stdout",
     "output_type": "stream",
     "text": [
      "1000\n"
     ]
    }
   ],
   "source": [
    "# Find the number of rows in late_shipments\n",
    "n_total = len(late_shipments)\n",
    "\n",
    "# Print n_total\n",
    "print(n_total)"
   ]
  }
 ],
 "metadata": {
  "kernelspec": {
   "display_name": "Python 3 (ipykernel)",
   "language": "python",
   "name": "python3"
  },
  "language_info": {
   "codemirror_mode": {
    "name": "ipython",
    "version": 3
   },
   "file_extension": ".py",
   "mimetype": "text/x-python",
   "name": "python",
   "nbconvert_exporter": "python",
   "pygments_lexer": "ipython3",
   "version": "3.9.12"
  }
 },
 "nbformat": 4,
 "nbformat_minor": 5
}
